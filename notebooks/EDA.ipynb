{
 "cells": [
  {
   "cell_type": "code",
   "execution_count": null,
   "metadata": {},
   "outputs": [],
   "source": [
    "import pandas as pd\n",
    "import plotly.express as px\n",
    "\n",
    "# Cómo construir un gráfico de dispersión en esta librería.\n",
    "\n",
    "car_data = pd.read_csv('https://raw.githubusercontent.com/mpalacios89/tripleten_sp4_final/main/vehicles_us.csv?token=GHSAT0AAAAAACK3ZFOJ3GD5QBJVILKZYSDMZLOUU4A') # leer los datos\n",
    "fig = px.histogram(car_data, x=\"odometer\") # crear un histograma\n",
    "fig.show() # crear gráfico de dispersión\n",
    "\n"
   ]
  }
 ],
 "metadata": {
  "language_info": {
   "name": "python"
  }
 },
 "nbformat": 4,
 "nbformat_minor": 2
}
